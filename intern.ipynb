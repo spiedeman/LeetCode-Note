{
 "cells": [
  {
   "cell_type": "code",
   "execution_count": 1,
   "metadata": {},
   "outputs": [],
   "source": [
    "#!/usr/bin/python\n",
    "# -*- coding: UTF-8 -*-\n",
    "import requests\n",
    "import re"
   ]
  },
  {
   "cell_type": "code",
   "execution_count": 63,
   "metadata": {},
   "outputs": [],
   "source": [
    "def find_intern(page=1,keywords=[u'银行',u'证券'],display=True):\n",
    "    url1 = 'https://bbs.pku.edu.cn/v2/'\n",
    "    title_list = []\n",
    "    link_list = []\n",
    "    for i in range(page):\n",
    "        url = 'https://bbs.pku.edu.cn/v2/thread.php?bid=896&mode=topic'\n",
    "        if (i+1) == 1:\n",
    "            html = requests.get(url).text\n",
    "            titles = re.findall(r'<div class=\"title-cont l\">(.*?)</div>',html,re.S)[6:]\n",
    "        else:\n",
    "            i += 1\n",
    "            url = url+'&page={}'.format(i)\n",
    "            html = requests.get(url).text\n",
    "            titles = re.findall(r'<div class=\"title-cont l\">(.*?)</div>',html,re.S)\n",
    "\n",
    "\n",
    "        links = re.findall(r'<div class=\"list-item-topic list-item\" data-itemid=\"(.*?)\">(.*?)</div>',html,re.S)\n",
    "\n",
    "\n",
    "        for i in range(len(links)):\n",
    "            title = titles[i][titles[i].find('>')+1:]\n",
    "            link_tmp = re.findall(r'<a class=\"link\" href=\"(.*?)\"></a>',links[i][1],re.S)\n",
    "            for y in link_tmp:\n",
    "                link = url1+y[:y.find('amp')]+y[y.find('amp')+4:]\n",
    "            if display:\n",
    "                print 'Title:%s'%title\n",
    "                print link +'\\n'\n",
    "            for keyword in keywords:\n",
    "                if keyword in title:\n",
    "                    title_list.append(title)\n",
    "                    link_list.append(link)\n",
    "                    break\n",
    "                else:\n",
    "                    pass\n",
    "\n",
    "    st = ','\n",
    "    if title_list:                \n",
    "        print '*'*60\n",
    "        print u'筛选出含有***'+st.join(keywords)+u'***的实习信息，共计{}条！'.format(len(title_list))\n",
    "        print '*'*60\n",
    "        for t,l in zip(title_list,link_list):\n",
    "            print t\n",
    "            print l + '\\n'\n",
    "    else:\n",
    "        print '*'*60\n",
    "        print u'没有 *** '+st.join(keywords)+u' *** 等相关实习信息'\n",
    "        print '*'*60"
   ]
  },
  {
   "cell_type": "code",
   "execution_count": 66,
   "metadata": {},
   "outputs": [
    {
     "name": "stdout",
     "output_type": "stream",
     "text": [
      "************************************************************\n",
      "筛选出含有***暑期,证券,中金,中信,华泰,招商,天风,申万宏源,银行,中国银行,工商银行,农业银行,建设银行,交通银行,金融工程,量化***的实习信息，共计11条！\n",
      "************************************************************\n",
      "【中信建投研究所】电力设备与新能源组日常实习招聘\n",
      "https://bbs.pku.edu.cn/v2/post-read.php?bid=896&threadid=17077991\n",
      "\n",
      "【投行实习】招商证券投资银行总部ABS组暑期招聘\n",
      "https://bbs.pku.edu.cn/v2/post-read.php?bid=896&threadid=17077948\n",
      "\n",
      "【天风证券】ABS承做实习生\n",
      "https://bbs.pku.edu.cn/v2/post-read.php?bid=896&threadid=17077928\n",
      "\n",
      "【实习】旷视Megvii招聘暑期实习生\n",
      "https://bbs.pku.edu.cn/v2/post-read.php?bid=896&threadid=17077556\n",
      "\n",
      "广东保利2019暑期研习营计划正式启动\n",
      "https://bbs.pku.edu.cn/v2/post-read.php?bid=896&threadid=17077323\n",
      "\n",
      "【北京】国信证券机构业务总部-销售助理实习生\n",
      "https://bbs.pku.edu.cn/v2/post-read.php?bid=896&threadid=17077301\n",
      "\n",
      "【实习】申万宏源证券资产管理事业部实习\n",
      "https://bbs.pku.edu.cn/v2/post-read.php?bid=896&threadid=17077059\n",
      "\n",
      "旭辉集团2020届『晨辉计划』暑期招聘简章&nbsp;\n",
      "https://bbs.pku.edu.cn/v2/post-read.php?bid=896&threadid=17073603\n",
      "\n",
      "复星2019暑期实习生招聘\n",
      "https://bbs.pku.edu.cn/v2/post-read.php?bid=896&threadid=17073447\n",
      "\n",
      "【实习】【华泰金融控股（香港）】境外债券承做实习\n",
      "https://bbs.pku.edu.cn/v2/post-read.php?bid=896&threadid=17076679\n",
      "\n",
      "【实习】【华泰联合证券】投资银行项目实习生\n",
      "https://bbs.pku.edu.cn/v2/post-read.php?bid=896&threadid=17076673\n",
      "\n",
      "CPU times: user 75 ms, sys: 7.43 ms, total: 82.5 ms\n",
      "Wall time: 465 ms\n"
     ]
    }
   ],
   "source": [
    "securities = [u'证券',u'中金',u'中信',u'华泰',u'招商',u'天风',u'申万宏源']\n",
    "banks = [u'银行',u'中国银行',u'工商银行',u'农业银行',u'建设银行',u'交通银行']\n",
    "divisions = [u'金融工程',u'量化']\n",
    "keywords=[u'暑期'] + securities + banks + divisions\n",
    "page = 2\n",
    "if __name__ == '__main__':\n",
    "    %time find_intern(page=page,keywords=keywords,display=False)"
   ]
  },
  {
   "cell_type": "code",
   "execution_count": null,
   "metadata": {},
   "outputs": [],
   "source": []
  }
 ],
 "metadata": {
  "kernelspec": {
   "display_name": "Python 2",
   "language": "python",
   "name": "python2"
  },
  "language_info": {
   "codemirror_mode": {
    "name": "ipython",
    "version": 2
   },
   "file_extension": ".py",
   "mimetype": "text/x-python",
   "name": "python",
   "nbconvert_exporter": "python",
   "pygments_lexer": "ipython2",
   "version": "2.7.13"
  },
  "latex_envs": {
   "LaTeX_envs_menu_present": true,
   "autoclose": false,
   "autocomplete": true,
   "bibliofile": "biblio.bib",
   "cite_by": "apalike",
   "current_citInitial": 1,
   "eqLabelWithNumbers": true,
   "eqNumInitial": 1,
   "hotkeys": {
    "equation": "Ctrl-E",
    "itemize": "Ctrl-I"
   },
   "labels_anchors": false,
   "latex_user_defs": false,
   "report_style_numbering": false,
   "user_envs_cfg": false
  },
  "toc": {
   "base_numbering": 1,
   "nav_menu": {},
   "number_sections": true,
   "sideBar": true,
   "skip_h1_title": false,
   "title_cell": "Table of Contents",
   "title_sidebar": "Contents",
   "toc_cell": false,
   "toc_position": {},
   "toc_section_display": true,
   "toc_window_display": false
  }
 },
 "nbformat": 4,
 "nbformat_minor": 2
}
